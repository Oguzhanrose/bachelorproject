{
 "cells": [
  {
   "cell_type": "markdown",
   "metadata": {},
   "source": [
    "# File description\n",
    "Second step in the preprocessing. This file takes the initially processed video from `reducer1_initial` and compress them. The compression algorithm used is called `High Efficiency Video Coding` or `H.265` and is provided through `ffmpeg`. "
   ]
  },
  {
   "cell_type": "code",
   "execution_count": 1,
   "metadata": {},
   "outputs": [
    {
     "data": {
      "text/html": [
       "<style>.container { width:75% !important; }</style>"
      ],
      "text/plain": [
       "<IPython.core.display.HTML object>"
      ]
     },
     "metadata": {},
     "output_type": "display_data"
    }
   ],
   "source": [
    "import dutils as U\n",
    "U.jupyter_ipython.adjust_screen_width()\n",
    "from glob import glob\n",
    "import os\n",
    "import torch\n",
    "import random\n",
    "import cv2\n",
    "from tqdm.notebook import tqdm\n",
    "import subprocess\n",
    "import pandas as pd"
   ]
  },
  {
   "cell_type": "markdown",
   "metadata": {},
   "source": [
    "# Constants"
   ]
  },
  {
   "cell_type": "code",
   "execution_count": 2,
   "metadata": {},
   "outputs": [],
   "source": [
    "OLD_FOLDER_PATH = \"C:/Users/JK/Desktop/reduced_initial\" # Path to the original videos\n",
    "NEW_FOLDER_PATH = \"C:/Users/JK/Desktop/reduced_h265\" # Path where the processed videos are to be saved"
   ]
  },
  {
   "cell_type": "markdown",
   "metadata": {},
   "source": [
    "# Folders"
   ]
  },
  {
   "cell_type": "code",
   "execution_count": null,
   "metadata": {},
   "outputs": [],
   "source": [
    "old_folder_paths = [os.path.abspath(p) for p in glob(os.path.join(OLD_FOLDER_PATH, \"*\"))]\n",
    "new_folder_paths = [os.path.join(NEW_FOLDER_PATH, os.path.basename(p)) for p in old_folder_paths]\n",
    "\n",
    "for new_folder_path in new_folder_paths:\n",
    "    if os.path.exists(new_folder_path): continue\n",
    "    assert not os.path.exists(new_folder_path), \"Folder already exists\"\n",
    "    assert not os.path.isdir(new_folder_path), \"Received non-folder path\"    \n",
    "    os.mkdir(new_folder_path)\n",
    "    print(new_folder_path)"
   ]
  },
  {
   "cell_type": "markdown",
   "metadata": {},
   "source": [
    "# Compress"
   ]
  },
  {
   "cell_type": "code",
   "execution_count": null,
   "metadata": {},
   "outputs": [],
   "source": [
    "for (old_folder_path, new_folder_path) in tqdm(list(zip(old_folder_paths, new_folder_paths))):\n",
    "    for old_video_path in tqdm(glob(os.path.join(old_folder_path, \"*\")), leave=False):\n",
    "        new_video_path = os.path.join(new_folder_path, os.path.basename(old_video_path))\n",
    "        if os.path.isfile(new_video_path): continue\n",
    "        command = f'ffmpeg -i {old_video_path} -vcodec libx265 -crf 28 {new_video_path}'\n",
    "        subprocess.run(command)"
   ]
  }
 ],
 "metadata": {
  "kernelspec": {
   "display_name": "Python 3",
   "language": "python",
   "name": "python3"
  },
  "language_info": {
   "codemirror_mode": {
    "name": "ipython",
    "version": 3
   },
   "file_extension": ".py",
   "mimetype": "text/x-python",
   "name": "python",
   "nbconvert_exporter": "python",
   "pygments_lexer": "ipython3",
   "version": "3.8.6rc1"
  },
  "toc": {
   "base_numbering": 1,
   "nav_menu": {},
   "number_sections": true,
   "sideBar": true,
   "skip_h1_title": false,
   "title_cell": "Table of Contents",
   "title_sidebar": "Contents",
   "toc_cell": false,
   "toc_position": {},
   "toc_section_display": true,
   "toc_window_display": false
  }
 },
 "nbformat": 4,
 "nbformat_minor": 4
}
