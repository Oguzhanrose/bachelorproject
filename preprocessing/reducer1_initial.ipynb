{
 "cells": [
  {
   "cell_type": "markdown",
   "metadata": {},
   "source": [
    "# File description\n",
    "Performs the initial video preprocessing, this include:\n",
    "\n",
    "    1.) FPS reduction. The videos are between 30-60 FPS and will be reduced to an FPS count of 5\n",
    "    2.) Rotation. The orientation of the videos are all over the place. All videos will be rotated correctly.\n",
    "    3.) The videos are recorded in HD (1920x1080). This resolution will be halved resulting in a resolution of 960x540"
   ]
  },
  {
   "cell_type": "code",
   "execution_count": 1,
   "metadata": {},
   "outputs": [
    {
     "data": {
      "text/html": [
       "<style>.container { width:75% !important; }</style>"
      ],
      "text/plain": [
       "<IPython.core.display.HTML object>"
      ]
     },
     "metadata": {},
     "output_type": "display_data"
    }
   ],
   "source": [
    "# pip install git+https://github.com/Jako-K/utils <-- dutils\n",
    "import dutils as U\n",
    "U.jupyter_ipython.adjust_screen_width()\n",
    "from glob import glob\n",
    "import os\n",
    "import torch\n",
    "import random\n",
    "import cv2\n",
    "from tqdm.notebook import tqdm"
   ]
  },
  {
   "cell_type": "markdown",
   "metadata": {},
   "source": [
    "# Constants"
   ]
  },
  {
   "cell_type": "code",
   "execution_count": 2,
   "metadata": {},
   "outputs": [],
   "source": [
    "OLD_FOLDER_PATH = \"C:/Users/JK/Desktop/original\" # Path to the original videos\n",
    "NEW_FOLDER_PATH = \"C:/Users/JK/Desktop/reduced_initial\" # Path where the processed videos are to be saved\n",
    "EVERY_NTH_FRAME = 6\n",
    "ROTATION_ANGLE = -90\n",
    "SCALE_FACTOR = 0.5"
   ]
  },
  {
   "cell_type": "markdown",
   "metadata": {},
   "source": [
    "# Folders"
   ]
  },
  {
   "cell_type": "code",
   "execution_count": 3,
   "metadata": {},
   "outputs": [],
   "source": [
    "old_folder_paths = [os.path.abspath(p) for p in glob(os.path.join(OLD_FOLDER_PATH, \"*\"))]\n",
    "new_folder_paths = [os.path.join(NEW_FOLDER_PATH, os.path.basename(p)) for p in old_folder_paths]\n",
    "for new_folder_path in new_folder_paths:\n",
    "    assert not os.path.exists(new_folder_path), \"Folder already exists\"\n",
    "    assert not os.path.isdir(new_folder_path), \"Received non-folder path\"\n",
    "    if os.path.exists(new_folder_path): continue\n",
    "    os.mkdir(new_folder_path)"
   ]
  },
  {
   "cell_type": "markdown",
   "metadata": {},
   "source": [
    "# Copy files"
   ]
  },
  {
   "cell_type": "code",
   "execution_count": null,
   "metadata": {},
   "outputs": [],
   "source": [
    "for (old_folder_path, new_folder_path) in zip(old_folder_paths, new_folder_paths):\n",
    "    for old_video_path in tqdm(glob(os.path.join(old_folder_path, \"*\"))):\n",
    "        new_video_path = os.path.join(new_folder_path, os.path.basename(old_video_path))\n",
    "        \n",
    "        # Ensure the actual FPS is identical to the expected one\n",
    "        info = U.videos.get_video_info(old_video_path)\n",
    "        assert info[\"frames_per_sec\"]/5 == EVERY_NTH_FRAME, \"Received an unexpected FPS\"\n",
    "        \n",
    "        # Framerate reduction, rotation and scaling\n",
    "        U.videos.preprocess_video(\n",
    "            load_path = old_video_path, \n",
    "            save_path = new_video_path, \n",
    "            save_every_nth_frame = EVERY_NTH_FRAME, \n",
    "            scale_factor = SCALE_FACTOR, \n",
    "            rotate_angle = ROTATION_ANGLE, \n",
    "            fps_out = 5\n",
    "        )"
   ]
  }
 ],
 "metadata": {
  "kernelspec": {
   "display_name": "Python 3",
   "language": "python",
   "name": "python3"
  },
  "language_info": {
   "codemirror_mode": {
    "name": "ipython",
    "version": 3
   },
   "file_extension": ".py",
   "mimetype": "text/x-python",
   "name": "python",
   "nbconvert_exporter": "python",
   "pygments_lexer": "ipython3",
   "version": "3.8.6rc1"
  },
  "toc": {
   "base_numbering": 1,
   "nav_menu": {},
   "number_sections": true,
   "sideBar": true,
   "skip_h1_title": false,
   "title_cell": "Table of Contents",
   "title_sidebar": "Contents",
   "toc_cell": false,
   "toc_position": {},
   "toc_section_display": true,
   "toc_window_display": false
  }
 },
 "nbformat": 4,
 "nbformat_minor": 4
}
