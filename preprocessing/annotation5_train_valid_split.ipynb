{
 "cells": [
  {
   "cell_type": "markdown",
   "metadata": {},
   "source": [
    "# File description\n",
    "Make the final train and validation splits. The format for the splits are 2 `csv` files which contain all annotation relevant information. These dataframes are passed on directly to the Pytorch `Dataset`.<br>\n",
    "Some notes on how the train/validation splits were made:\n",
    "    \n",
    "    1.) ...\n",
    "    2.) ...\n",
    "<br>\n",
    "<br>\n",
    "The final class distribution of the splits is:\n",
    "<table><tr>\n",
    "<img src=\"../illustration_images/train_split_dist.png\" width=\"800\" /> \n",
    "<img src=\"../illustration_images/valid_split_dist.png\" width=\"800\" />\n",
    "</tr></table>"
   ]
  },
  {
   "cell_type": "code",
   "execution_count": null,
   "metadata": {},
   "outputs": [],
   "source": [
    "import dutils as U\n",
    "U.jupyter_ipython.adjust_screen_width(75)\n",
    "from dutils.jupyter_ipython import show_image as show\n",
    "\n",
    "# Normal imports\n",
    "from tqdm.notebook import tqdm\n",
    "import torch\n",
    "import torch.nn as nn\n",
    "import numpy as np\n",
    "import os\n",
    "import cv2\n",
    "import wandb\n",
    "import pandas as pd\n",
    "\n",
    "# Settings\n",
    "torch.set_printoptions(sci_mode=False)\n",
    "import calendar\n",
    "import matplotlib.pyplot as plt\n",
    "import seaborn as sns\n",
    "import shutil\n",
    "import math\n",
    "sns.set_style(\"whitegrid\");"
   ]
  },
  {
   "cell_type": "markdown",
   "metadata": {},
   "source": [
    "# Setup"
   ]
  },
  {
   "cell_type": "code",
   "execution_count": null,
   "metadata": {},
   "outputs": [],
   "source": [
    "df = pd.read_csv(\"../dataset/data_final/annotations_all.csv\")\n",
    "df = df[df[\"class_label_combined_name\"].isin(['escooter_helmet', \"escooter_nohelmet\", 'cycle_nohelmet', 'cycle_helmet'])]"
   ]
  },
  {
   "cell_type": "code",
   "execution_count": null,
   "metadata": {},
   "outputs": [],
   "source": [
    "all_paths = {\n",
    "     'escooter_helmet': [],\n",
    "     'escooter_nohelmet': [],\n",
    "     'cycle_nohelmet': [],\n",
    "     'cycle_helmet': [],\n",
    "}\n",
    "\n",
    "def get_index(path:str, frame_amout:int, categori, video_path:str):\n",
    "    global all_paths\n",
    "    \n",
    "    to_return = []\n",
    "    for i in range(frame_amout):\n",
    "        t = str(int(path.split(\"_\")[-1]) + i)\n",
    "        s = \"_\".join(path.split(\"_\")[:-1])\n",
    "        final = s+\"_\"+t\n",
    "        to_return.append(final)\n",
    "        match = df[\"frame_name\"] == (final + \".png\")\n",
    "        assert sum(match), \"Expected only one match\"\n",
    "        all_paths[categori].append(final)\n",
    "        \n",
    "    show([os.path.join(video_path, t + \".png\") for t in to_return], resize_factor=0.5) \n",
    "    return to_return"
   ]
  },
  {
   "cell_type": "code",
   "execution_count": null,
   "metadata": {},
   "outputs": [],
   "source": [
    "# Make a folder with all the images from each class\n",
    "temp_folder_path = \"C:/Users/JK/Desktop\"\n",
    "assert os.path.exists(temp_folder_path), \"Bad path\"\n",
    "\n",
    "for class_label in tqdm(df[\"class_label_combined_name\"].unique().tolist()):\n",
    "    image_folder_path = os.path.join(temp_folder_path, f\"TEMP_{class_label}\")\n",
    "    if os.path.exists(image_folder_path): continue\n",
    "    os.mkdir(image_folder_path)\n",
    "    for frame_name in df[df[\"class_label_combined_name\"] == class_label][\"frame_name\"].unique().tolist():\n",
    "        shutil.copy(\n",
    "            f\"../dataset/data_final/data/{frame_name}\",\n",
    "            os.path.join(image_folder_path, frame_name)\n",
    "        )        "
   ]
  },
  {
   "cell_type": "markdown",
   "metadata": {
    "heading_collapsed": true
   },
   "source": [
    "# Escooter_helmet"
   ]
  },
  {
   "cell_type": "code",
   "execution_count": null,
   "metadata": {
    "hidden": true
   },
   "outputs": [],
   "source": [
    "class_name = \"escooter_helmet\"\n",
    "folder_path = os.path.join(temp_folder_path, \"TEMP_\" + class_name)\n",
    "folder_path"
   ]
  },
  {
   "cell_type": "code",
   "execution_count": null,
   "metadata": {
    "hidden": true
   },
   "outputs": [],
   "source": [
    "get_index(\"lyngbyvej_04-02-2022_09.40_FILE0022_25\", 4, categori=class_name, video_path=folder_path)"
   ]
  },
  {
   "cell_type": "code",
   "execution_count": null,
   "metadata": {
    "hidden": true
   },
   "outputs": [],
   "source": [
    "get_index(\"lyngbyvej_08-02-2022_11.59_FILE0037_287\", 3, categori=class_name, video_path=folder_path)"
   ]
  },
  {
   "cell_type": "code",
   "execution_count": null,
   "metadata": {
    "hidden": true
   },
   "outputs": [],
   "source": [
    "get_index(\"lyngbyvej_12-12-2021_12.19_FILE0031_253\", 4, categori=class_name, video_path=folder_path)"
   ]
  },
  {
   "cell_type": "code",
   "execution_count": null,
   "metadata": {
    "hidden": true
   },
   "outputs": [],
   "source": [
    "get_index(\"valby_14-12-2021_12.26_FILE0039_87\", 4, categori=class_name, video_path=folder_path)"
   ]
  },
  {
   "cell_type": "code",
   "execution_count": null,
   "metadata": {
    "hidden": true
   },
   "outputs": [],
   "source": [
    "get_index(\"valby_12-02-2022_11.05_FILE0035_38\", 3, categori=class_name, video_path=folder_path)"
   ]
  },
  {
   "cell_type": "code",
   "execution_count": null,
   "metadata": {
    "hidden": true
   },
   "outputs": [],
   "source": [
    "get_index(\"valby_16-02-2022_11.09_FILE0030_17\", 4, categori=class_name, video_path=folder_path)"
   ]
  },
  {
   "cell_type": "code",
   "execution_count": null,
   "metadata": {
    "hidden": true
   },
   "outputs": [],
   "source": [
    "get_index(\"valby_17-12-2021_13.23_FILE0050_47\", 3, categori=class_name, video_path=folder_path)"
   ]
  },
  {
   "cell_type": "code",
   "execution_count": null,
   "metadata": {
    "hidden": true
   },
   "outputs": [],
   "source": [
    "get_index(\"valby_13-02-2022_16.01_FILE0252_67\", 3, categori=class_name, video_path=folder_path)"
   ]
  },
  {
   "cell_type": "code",
   "execution_count": null,
   "metadata": {
    "hidden": true
   },
   "outputs": [],
   "source": [
    "get_index(\"valby_14-02-2022_13.25_FILE0048_32\", 4, categori=class_name, video_path=folder_path)"
   ]
  },
  {
   "cell_type": "code",
   "execution_count": null,
   "metadata": {
    "hidden": true
   },
   "outputs": [],
   "source": [
    "get_index(\"valby_13-02-2022_16.25_FILE0255_52\", 7, categori=class_name, video_path=folder_path)"
   ]
  },
  {
   "cell_type": "code",
   "execution_count": null,
   "metadata": {
    "hidden": true
   },
   "outputs": [],
   "source": [
    "get_index(\"valby_17-02-2022_11.57_FILE0216_0\", 4, categori=class_name, video_path=folder_path)"
   ]
  },
  {
   "cell_type": "code",
   "execution_count": null,
   "metadata": {
    "hidden": true
   },
   "outputs": [],
   "source": [
    "get_index(\"lyngbyvej_07-02-2022_11.29_FILE0216_143\", 5, categori=class_name, video_path=folder_path)"
   ]
  },
  {
   "cell_type": "code",
   "execution_count": null,
   "metadata": {
    "hidden": true
   },
   "outputs": [],
   "source": [
    "get_index(\"lyngbyvej_09-12-2021_07.43_FILE0007_64\", 5, categori=class_name, video_path=folder_path)"
   ]
  },
  {
   "cell_type": "code",
   "execution_count": null,
   "metadata": {
    "hidden": true
   },
   "outputs": [],
   "source": [
    "get_index(\"valby_17-02-2022_08.21_FILE0189_109\", 4, categori=class_name, video_path=folder_path)"
   ]
  },
  {
   "cell_type": "code",
   "execution_count": null,
   "metadata": {
    "hidden": true
   },
   "outputs": [],
   "source": [
    "get_index(\"valby_15-02-2022_13.41_FILE0230_196\", 4, categori=class_name, video_path=folder_path)"
   ]
  },
  {
   "cell_type": "code",
   "execution_count": null,
   "metadata": {
    "hidden": true
   },
   "outputs": [],
   "source": [
    "len(all_paths[\"escooter_helmet\"])"
   ]
  },
  {
   "cell_type": "markdown",
   "metadata": {},
   "source": [
    "# Escooter_nohelmet"
   ]
  },
  {
   "cell_type": "code",
   "execution_count": null,
   "metadata": {},
   "outputs": [],
   "source": [
    "class_name = \"escooter_nohelmet\"\n",
    "folder_path = os.path.join(temp_folder_path, \"TEMP_\" + class_name)\n",
    "folder_path"
   ]
  },
  {
   "cell_type": "code",
   "execution_count": null,
   "metadata": {},
   "outputs": [],
   "source": [
    "get_index(\"valby_12-02-2022_11.29_FILE0038_10\", 3, categori=class_name, video_path=folder_path)"
   ]
  },
  {
   "cell_type": "code",
   "execution_count": null,
   "metadata": {},
   "outputs": [],
   "source": [
    "get_index(\"valby_14-12-2021_15.14_FILE0060_37\", 3, categori=class_name, video_path=folder_path)"
   ]
  },
  {
   "cell_type": "code",
   "execution_count": null,
   "metadata": {},
   "outputs": [],
   "source": [
    "get_index(\"lyngbyvej_07-02-2022_17.05_FILE0258_256\", 4, categori=class_name, video_path=folder_path)"
   ]
  },
  {
   "cell_type": "code",
   "execution_count": null,
   "metadata": {},
   "outputs": [],
   "source": [
    "get_index(\"lyngbyvej_09-12-2021_08.07_FILE0010_796\", 6, categori=class_name, video_path=folder_path)"
   ]
  },
  {
   "cell_type": "code",
   "execution_count": null,
   "metadata": {},
   "outputs": [],
   "source": [
    "get_index(\"lyngbyvej_12-12-2021_10.43_FILE0019_96\", 3, categori=class_name, video_path=folder_path)"
   ]
  },
  {
   "cell_type": "code",
   "execution_count": null,
   "metadata": {},
   "outputs": [],
   "source": [
    "get_index(\"lyngbyvej_08-12-2021_09.26_FILE0019_0\", 4, categori=class_name, video_path=folder_path)"
   ]
  },
  {
   "cell_type": "code",
   "execution_count": null,
   "metadata": {},
   "outputs": [],
   "source": [
    "get_index(\"valby_17-12-2021_10.35_FILE0029_23\", 2, categori=class_name, video_path=folder_path)"
   ]
  },
  {
   "cell_type": "code",
   "execution_count": null,
   "metadata": {},
   "outputs": [],
   "source": [
    "get_index(\"valby_14-12-2021_12.10_FILE0037_52\", 4, categori=class_name, video_path=folder_path)"
   ]
  },
  {
   "cell_type": "code",
   "execution_count": null,
   "metadata": {},
   "outputs": [],
   "source": [
    "get_index(\"valby_15-12-2021_12.39_FILE0046_52\", 2, categori=class_name, video_path=folder_path)"
   ]
  },
  {
   "cell_type": "code",
   "execution_count": null,
   "metadata": {},
   "outputs": [],
   "source": [
    "get_index(\"lyngbyvej_08-12-2021_12.54_FILE0045_226\", 4, categori=class_name, video_path=folder_path)"
   ]
  },
  {
   "cell_type": "code",
   "execution_count": null,
   "metadata": {},
   "outputs": [],
   "source": [
    "get_index(\"lyngbyvej_12-12-2021_17.15_FILE0068_83\", 7, categori=class_name, video_path=folder_path)"
   ]
  },
  {
   "cell_type": "code",
   "execution_count": null,
   "metadata": {},
   "outputs": [],
   "source": [
    "get_index(\"lyngbyvej_10-12-2021_08.04_FILE0006_115\", 4, categori=class_name, video_path=folder_path)"
   ]
  },
  {
   "cell_type": "code",
   "execution_count": null,
   "metadata": {},
   "outputs": [],
   "source": [
    "get_index(\"valby_13-02-2022_16.49_FILE0258_39\", 3, categori=class_name, video_path=folder_path)"
   ]
  },
  {
   "cell_type": "code",
   "execution_count": null,
   "metadata": {},
   "outputs": [],
   "source": [
    "get_index(\"valby_16-02-2022_18.05_FILE0082_8\", 3, categori=class_name, video_path=folder_path)"
   ]
  },
  {
   "cell_type": "code",
   "execution_count": null,
   "metadata": {},
   "outputs": [],
   "source": [
    "get_index(\"lyngbyvej_10-02-2022_13.20_FILE0232_547\", 14, categori=class_name, video_path=folder_path)"
   ]
  },
  {
   "cell_type": "code",
   "execution_count": null,
   "metadata": {},
   "outputs": [],
   "source": [
    "len(all_paths[\"escooter_nohelmet\"])"
   ]
  },
  {
   "cell_type": "markdown",
   "metadata": {},
   "source": [
    "# Cycle_helmet"
   ]
  },
  {
   "cell_type": "code",
   "execution_count": null,
   "metadata": {},
   "outputs": [],
   "source": [
    "class_name = \"cycle_helmet\"\n",
    "folder_path = os.path.join(temp_folder_path, \"TEMP_\" + class_name)\n",
    "folder_path"
   ]
  },
  {
   "cell_type": "code",
   "execution_count": null,
   "metadata": {},
   "outputs": [],
   "source": [
    "get_index(\"lyngbyvej_04-02-2022_09.08_FILE0018_207\", 2, categori=class_name, video_path=folder_path)"
   ]
  },
  {
   "cell_type": "code",
   "execution_count": null,
   "metadata": {},
   "outputs": [],
   "source": [
    "get_index(\"lyngbyvej_11-12-2021_12.34_FILE0024_109\", 1, categori=class_name, video_path=folder_path)"
   ]
  },
  {
   "cell_type": "code",
   "execution_count": null,
   "metadata": {},
   "outputs": [],
   "source": [
    "get_index(\"lyngbyvej_07-02-2022_08.25_FILE0193_674\", 3, categori=class_name, video_path=folder_path)"
   ]
  },
  {
   "cell_type": "code",
   "execution_count": null,
   "metadata": {},
   "outputs": [],
   "source": [
    "get_index(\"lyngbyvej_07-02-2022_12.57_FILE0227_585\", 2, categori=class_name, video_path=folder_path)\n",
    "get_index(\"lyngbyvej_07-02-2022_12.57_FILE0227_590\", 1, categori=class_name, video_path=folder_path)"
   ]
  },
  {
   "cell_type": "code",
   "execution_count": null,
   "metadata": {},
   "outputs": [],
   "source": [
    "get_index(\"lyngbyvej_08-02-2022_15.03_FILE0060_1138\", 2, categori=class_name, video_path=folder_path)"
   ]
  },
  {
   "cell_type": "code",
   "execution_count": null,
   "metadata": {},
   "outputs": [],
   "source": [
    "get_index(\"lyngbyvej_12-12-2021_10.43_FILE0019_100\", 1, categori=class_name, video_path=folder_path)\n",
    "get_index(\"lyngbyvej_12-12-2021_10.43_FILE0019_103\", 1, categori=class_name, video_path=folder_path)"
   ]
  },
  {
   "cell_type": "code",
   "execution_count": null,
   "metadata": {},
   "outputs": [],
   "source": [
    "get_index(\"lyngbyvej_11-12-2021_12.34_FILE0024_546\", 1, categori=class_name, video_path=folder_path)"
   ]
  },
  {
   "cell_type": "code",
   "execution_count": null,
   "metadata": {},
   "outputs": [],
   "source": [
    "get_index(\"valby_12-02-2022_09.21_FILE0022_18\", 1, categori=class_name, video_path=folder_path)"
   ]
  },
  {
   "cell_type": "code",
   "execution_count": null,
   "metadata": {},
   "outputs": [],
   "source": [
    "get_index(\"valby_12-02-2022_09.21_FILE0022_82\", 1, categori=class_name, video_path=folder_path)"
   ]
  },
  {
   "cell_type": "code",
   "execution_count": null,
   "metadata": {},
   "outputs": [],
   "source": [
    "get_index(\"valby_12-02-2022_16.01_FILE0072_16\", 1, categori=class_name, video_path=folder_path)\n",
    "get_index(\"valby_12-02-2022_16.01_FILE0072_19\", 1, categori=class_name, video_path=folder_path)"
   ]
  },
  {
   "cell_type": "code",
   "execution_count": null,
   "metadata": {},
   "outputs": [],
   "source": [
    "get_index(\"valby_14-02-2022_15.01_FILE0060_82\", 2, categori=class_name, video_path=folder_path)\n",
    "get_index(\"valby_14-02-2022_15.01_FILE0060_85\", 1, categori=class_name, video_path=folder_path)"
   ]
  },
  {
   "cell_type": "code",
   "execution_count": null,
   "metadata": {},
   "outputs": [],
   "source": [
    "get_index(\"valby_14-12-2021_11.38_FILE0033_25\", 2, categori=class_name, video_path=folder_path)"
   ]
  },
  {
   "cell_type": "code",
   "execution_count": null,
   "metadata": {},
   "outputs": [],
   "source": [
    "get_index(\"valby_16-02-2022_16.13_FILE0068_140\", 1, categori=class_name, video_path=folder_path)"
   ]
  },
  {
   "cell_type": "code",
   "execution_count": null,
   "metadata": {},
   "outputs": [],
   "source": [
    "get_index(\"valby_17-12-2021_10.27_FILE0028_24\", 1, categori=class_name, video_path=folder_path)"
   ]
  },
  {
   "cell_type": "code",
   "execution_count": null,
   "metadata": {},
   "outputs": [],
   "source": [
    "get_index(\"valby_18-02-2022_14.49_FILE0058_51\", 1, categori=class_name, video_path=folder_path)"
   ]
  },
  {
   "cell_type": "code",
   "execution_count": null,
   "metadata": {},
   "outputs": [],
   "source": [
    "get_index(\"lyngbyvej_07-02-2022_15.37_FILE0247_724\", 1, categori=class_name, video_path=folder_path)\n",
    "get_index(\"lyngbyvej_07-02-2022_15.37_FILE0247_727\", 2, categori=class_name, video_path=folder_path)"
   ]
  },
  {
   "cell_type": "code",
   "execution_count": null,
   "metadata": {},
   "outputs": [],
   "source": [
    "get_index(\"lyngbyvej_10-02-2022_08.40_FILE0197_115\", 5, categori=class_name, video_path=folder_path)"
   ]
  },
  {
   "cell_type": "code",
   "execution_count": null,
   "metadata": {},
   "outputs": [],
   "source": [
    "get_index(\"valby_14-02-2022_10.05_FILE0023_62\", 4, categori=class_name, video_path=folder_path)"
   ]
  },
  {
   "cell_type": "code",
   "execution_count": null,
   "metadata": {},
   "outputs": [],
   "source": [
    "get_index(\"valby_14-02-2022_13.25_FILE0048_20\", 3, categori=class_name, video_path=folder_path)"
   ]
  },
  {
   "cell_type": "code",
   "execution_count": null,
   "metadata": {},
   "outputs": [],
   "source": [
    "get_index(\"valby_14-12-2021_14.02_FILE0051_101\", 1, categori=class_name, video_path=folder_path)\n",
    "get_index(\"valby_14-12-2021_14.02_FILE0051_103\", 1, categori=class_name, video_path=folder_path)"
   ]
  },
  {
   "cell_type": "code",
   "execution_count": null,
   "metadata": {},
   "outputs": [],
   "source": [
    "get_index(\"valby_15-02-2022_12.29_FILE0221_76\", 1, categori=class_name, video_path=folder_path)\n",
    "get_index(\"valby_15-02-2022_12.29_FILE0221_79\", 1, categori=class_name, video_path=folder_path)"
   ]
  },
  {
   "cell_type": "code",
   "execution_count": null,
   "metadata": {},
   "outputs": [],
   "source": [
    "len(all_paths[\"cycle_helmet\"])"
   ]
  },
  {
   "cell_type": "markdown",
   "metadata": {
    "heading_collapsed": true
   },
   "source": [
    "# Cycle_nohelmet"
   ]
  },
  {
   "cell_type": "code",
   "execution_count": null,
   "metadata": {
    "hidden": true
   },
   "outputs": [],
   "source": [
    "class_name = \"cycle_nohelmet\"\n",
    "folder_path = os.path.join(temp_folder_path, \"TEMP_\" + class_name)\n",
    "folder_path"
   ]
  },
  {
   "cell_type": "code",
   "execution_count": null,
   "metadata": {
    "hidden": true
   },
   "outputs": [],
   "source": [
    "get_index(\"valby_14-12-2021_11.30_FILE0032_0\", 1, categori=class_name, video_path=folder_path)\n",
    "get_index(\"valby_14-12-2021_11.30_FILE0032_2\", 1, categori=class_name, video_path=folder_path)"
   ]
  },
  {
   "cell_type": "code",
   "execution_count": null,
   "metadata": {
    "hidden": true
   },
   "outputs": [],
   "source": [
    "get_index(\"lyngbyvej_12-12-2021_14.51_FILE0050_129\", 5, categori=class_name, video_path=folder_path)"
   ]
  },
  {
   "cell_type": "code",
   "execution_count": null,
   "metadata": {
    "hidden": true
   },
   "outputs": [],
   "source": [
    "get_index(\"lyngbyvej_07-02-2022_14.49_FILE0241_178\", 1, categori=class_name, video_path=folder_path)"
   ]
  },
  {
   "cell_type": "code",
   "execution_count": null,
   "metadata": {
    "hidden": true
   },
   "outputs": [],
   "source": [
    "get_index(\"lyngbyvej_04-02-2022_13.16_FILE0049_222\", 2, categori=class_name, video_path=folder_path)"
   ]
  },
  {
   "cell_type": "code",
   "execution_count": null,
   "metadata": {
    "hidden": true
   },
   "outputs": [],
   "source": [
    "get_index(\"lyngbyvej_06-02-2022_08.58_FILE0017_107\", 1, categori=class_name, video_path=folder_path)"
   ]
  },
  {
   "cell_type": "code",
   "execution_count": null,
   "metadata": {
    "hidden": true
   },
   "outputs": [],
   "source": [
    "get_index(\"lyngbyvej_07-02-2022_09.37_FILE0202_528\", 1, categori=class_name, video_path=folder_path)"
   ]
  },
  {
   "cell_type": "code",
   "execution_count": null,
   "metadata": {
    "hidden": true
   },
   "outputs": [],
   "source": [
    "get_index(\"lyngbyvej_07-02-2022_14.01_FILE0235_211\", 1, categori=class_name, video_path=folder_path)"
   ]
  },
  {
   "cell_type": "code",
   "execution_count": null,
   "metadata": {
    "hidden": true
   },
   "outputs": [],
   "source": [
    "get_index(\"lyngbyvej_08-02-2022_11.43_FILE0035_73\", 1, categori=class_name, video_path=folder_path)\n",
    "get_index(\"lyngbyvej_08-02-2022_11.43_FILE0035_75\", 1, categori=class_name, video_path=folder_path)"
   ]
  },
  {
   "cell_type": "code",
   "execution_count": null,
   "metadata": {
    "hidden": true
   },
   "outputs": [],
   "source": [
    "get_index(\"valby_14-12-2021_11.30_FILE0032_31\", 1, categori=class_name, video_path=folder_path)"
   ]
  },
  {
   "cell_type": "code",
   "execution_count": null,
   "metadata": {
    "hidden": true
   },
   "outputs": [],
   "source": [
    "get_index(\"valby_15-02-2022_15.01_FILE0240_3\", 1, categori=class_name, video_path=folder_path)"
   ]
  },
  {
   "cell_type": "code",
   "execution_count": null,
   "metadata": {
    "hidden": true
   },
   "outputs": [],
   "source": [
    "\n",
    "get_index(\"valby_16-02-2022_15.09_FILE0060_2\", 1, categori=class_name, video_path=folder_path)\n",
    "get_index(\"valby_16-02-2022_15.09_FILE0060_4\", 2, categori=class_name, video_path=folder_path)"
   ]
  },
  {
   "cell_type": "code",
   "execution_count": null,
   "metadata": {
    "hidden": true
   },
   "outputs": [],
   "source": [
    "get_index(\"valby_17-12-2021_13.31_FILE0051_20\", 3, categori=class_name, video_path=folder_path)"
   ]
  },
  {
   "cell_type": "code",
   "execution_count": null,
   "metadata": {
    "hidden": true
   },
   "outputs": [],
   "source": [
    "len(all_paths[\"cycle_nohelmet\"])"
   ]
  },
  {
   "cell_type": "markdown",
   "metadata": {},
   "source": [
    "# Validation split"
   ]
  },
  {
   "cell_type": "code",
   "execution_count": null,
   "metadata": {},
   "outputs": [],
   "source": [
    "df_valid = df.loc[0:-1,:].copy()\n",
    "for name in all_paths:\n",
    "    paths = list(set(all_paths[name]))\n",
    "    to_append = df[df[\"frame_name\"].isin([path + \".png\" for path in paths])]\n",
    "    df_valid = df_valid.append(to_append)\n",
    "\n",
    "df_valid.to_csv(\"../dataset/data_final/annotations_valid.csv\", index=False)"
   ]
  },
  {
   "cell_type": "code",
   "execution_count": null,
   "metadata": {},
   "outputs": [],
   "source": [
    "sns.set(rc={'figure.figsize':(20,7)}, style=\"whitegrid\")\n",
    "with_names = [\"cycle_nohelmet\", \"cycle_helmet\", \"escooter_nohelmet\", \"escooter_helmet\"]\n",
    "counts = df_valid[\"class_label_combined_name\"].value_counts().values.tolist()\n",
    "counts_percentage = [round(c/sum(counts)*100, 2) for c in counts]\n",
    "palette = [sns.color_palette()[i] for i in [1, 0, 3, 2]]\n",
    "barplot = sns.barplot(x=with_names, y=counts_percentage, palette=palette)\n",
    "barplot.set_title(\"VALIDATION SPLIT\")\n",
    "\n",
    "for i, (name, value) in enumerate(zip(with_names, counts_percentage)):\n",
    "    barplot.text(i, value+0.5, str(counts[i]), horizontalalignment=\"center\")\n",
    "barplot.set_xlabel(\"Labels\")\n",
    "barplot.set_ylabel(\"Count (%)\");\n",
    "\n",
    "display(df_valid[\"class_label_combined_name\"].value_counts())\n",
    "\"SUM: \", df_valid[\"class_label_combined_name\"].value_counts().sum()\n",
    "U.input_output.save_plt_plot(\"../illustration_images/valid_split_dist.png\")"
   ]
  },
  {
   "cell_type": "markdown",
   "metadata": {},
   "source": [
    "# Training split"
   ]
  },
  {
   "cell_type": "code",
   "execution_count": null,
   "metadata": {},
   "outputs": [],
   "source": [
    "df_train = df[~df[\"frame_path\"].isin(df_valid[\"frame_path\"])]\n",
    "df_train.to_csv(\"../dataset/data_final/annotations_train.csv\", index=False)"
   ]
  },
  {
   "cell_type": "code",
   "execution_count": null,
   "metadata": {},
   "outputs": [],
   "source": [
    "sns.set(rc={'figure.figsize':(20,7)}, style=\"whitegrid\")\n",
    "counts = df_train[\"class_label_combined_name\"].value_counts().values.tolist()\n",
    "counts_percentage = [round(c/sum(counts)*100, 2) for c in counts]\n",
    "barplot = sns.barplot(x=with_names, y=counts_percentage, palette=palette)\n",
    "barplot.set_title(\"VALIDATION SPLIT\")\n",
    "\n",
    "for i, (name, value) in enumerate(zip(with_names, counts_percentage)):\n",
    "    barplot.text(i, value+0.5, str(counts[i]), horizontalalignment=\"center\")\n",
    "barplot.set_xlabel(\"Labels\")\n",
    "barplot.set_ylabel(\"Count (%)\");\n",
    "\n",
    "display(df_train[\"class_label_combined_name\"].value_counts())\n",
    "\"SUM: \", df_train[\"class_label_combined_name\"].value_counts().sum()\n",
    "U.input_output.save_plt_plot(\"../illustration_images/train_split_dist.png\")"
   ]
  },
  {
   "cell_type": "markdown",
   "metadata": {},
   "source": [
    "# Plots"
   ]
  },
  {
   "cell_type": "code",
   "execution_count": null,
   "metadata": {
    "scrolled": false
   },
   "outputs": [],
   "source": [
    "df_valid = pd.read_csv(\"../dataset/data_final/annotations_valid.csv\")\n",
    "df_train = pd.read_csv(\"../dataset/data_final/annotations_train.csv\")\n",
    "\n",
    "days = [day for day in list(calendar.day_name)]\n",
    "sns.set_style(\"whitegrid\")\n",
    "name_map = {\n",
    "    'cycle_nohelmet':'Cyclist without helmet', \n",
    "    'cycle_helmet':'Cyclist with helmet',\n",
    "    'escooter_nohelmet': \"E-scooter without helmet\",\n",
    "    'escooter_helmet':\"Escooter with helmet\"\n",
    "}\n",
    "with_names = list(name_map.values())\n",
    "\n",
    "for i, (df_name, df) in enumerate([(\"Validation\", df_valid), (\"Train\", df_train)]):\n",
    "    \n",
    "    # Setup\n",
    "    df = df.copy()\n",
    "    df[\"class_label_combined_name\"] = df[\"class_label_combined_name\"].apply(lambda x: name_map[x])\n",
    "    fig, axes = plt.subplots(3, 1, figsize=(20,14))\n",
    "    plt.subplots_adjust(hspace=0.3)\n",
    "    \n",
    "    # Overall\n",
    "    ax = axes[0]\n",
    "    counts = df[\"class_label_combined_name\"].value_counts().values.tolist()\n",
    "    counts_percentage = [round(c/sum(counts)*100, 2) for c in counts]\n",
    "    barplot = sns.barplot(x=with_names, y=counts_percentage, palette=palette, ax=ax)\n",
    "    \n",
    "    for i, (name, value) in enumerate(zip(with_names, counts_percentage)):\n",
    "        ax.text(i, value+0.5, str(counts[i]), horizontalalignment=\"center\")\n",
    "    ax.set_title(f\"{df_name} Label distribution\", loc='left')\n",
    "    ax.set_xlabel(\"Labels\")\n",
    "    ax.set_ylabel(\"Count (%)\")\n",
    "    ax.set_ylim(0,60)\n",
    "    if df_name == \"Validation\": ax.set_ylim(0,30)\n",
    "    \n",
    "    # Weekdays\n",
    "    ax = axes[1]\n",
    "    df_ = df.groupby([\"week_day\", \"class_label_combined_name\"]).apply(len).reset_index()\n",
    "    df_ = df_.rename(columns={0:\"counts\"})\n",
    "    df_[\"week_day\"] = df_[\"week_day\"].apply(lambda x: x.capitalize() if isinstance(x, str) else \"\")\n",
    "    sns.barplot(data=df_, x=\"week_day\", y=\"counts\", hue=\"class_label_combined_name\", order=days, \n",
    "                hue_order=with_names, palette=palette, ax=ax)\n",
    "    ax.set_title(f\"{df_name} Label distribution - Weekdays\", loc='left')\n",
    "    ax.legend(loc='upper right')\n",
    "    ax.set_xlabel(\"Week Day\")\n",
    "    ax.set_ylabel(\"Count\")\n",
    "    ax.set_ylim(0,400)\n",
    "    if df_name == \"Validation\": ax.set_ylim(0,27)\n",
    "    \n",
    "    # Hourly\n",
    "    ax = axes[2]\n",
    "    df_ = df.groupby([\"date_hour\", \"class_label_combined_name\"]).apply(len).reset_index()\n",
    "    df_ = df_.rename(columns={0:\"counts\"})\n",
    "    df_[\"date_hour\"] = df_[~df_[\"date_hour\"].isna()][\"date_hour\"].apply(lambda x: str(int(x)) + \":00\")\n",
    "    ax = sns.barplot(data=df_, x=\"date_hour\", y=\"counts\", hue=\"class_label_combined_name\", \n",
    "                     hue_order=with_names, palette=palette, ax=ax)\n",
    "    ax.set_title(f\"{df_name} Label distribution - Hourly\", loc='left')\n",
    "    ax.set_xlabel(\"Hour\")\n",
    "    ax.set_ylabel(\"Count\")\n",
    "    ax.legend(loc='upper right')\n",
    "    ax.set_ylim(0,400)\n",
    "    if df_name == \"Validation\": ax.set_ylim(0,27)"
   ]
  }
 ],
 "metadata": {
  "kernelspec": {
   "display_name": "Python 3",
   "language": "python",
   "name": "python3"
  },
  "language_info": {
   "codemirror_mode": {
    "name": "ipython",
    "version": 3
   },
   "file_extension": ".py",
   "mimetype": "text/x-python",
   "name": "python",
   "nbconvert_exporter": "python",
   "pygments_lexer": "ipython3",
   "version": "3.8.6rc1"
  },
  "toc": {
   "base_numbering": 1,
   "nav_menu": {},
   "number_sections": true,
   "sideBar": true,
   "skip_h1_title": false,
   "title_cell": "Table of Contents",
   "title_sidebar": "Contents",
   "toc_cell": false,
   "toc_position": {},
   "toc_section_display": true,
   "toc_window_display": false
  }
 },
 "nbformat": 4,
 "nbformat_minor": 4
}
