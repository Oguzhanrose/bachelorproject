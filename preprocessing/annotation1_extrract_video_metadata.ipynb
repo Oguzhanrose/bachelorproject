{
 "cells": [
  {
   "cell_type": "markdown",
   "metadata": {},
   "source": [
    "# File description\n",
    "Loops over all the collected videos and extract information about `location`, `date`, `time` and `names`. This is going to be used later to enrich the bounding box annotations with additional information.<br>\n",
    "Extracting the time information was surprisingly difficult at least on Windows. What ended up working was the tool [exiftool](https://www.exiftool.org/) which could be used to extract a video attribute called `media created` that contains everything related to time of recording. The important thing about this attribute is it remains unchanged even after copying files or alike.\n",
    "<br>\n",
    "<br>\n",
    "The resulting dataframe looks something like this\n",
    "<img src=\"../illustration_images/df_video_info_example.png\" width=\"800\" /> "
   ]
  },
  {
   "cell_type": "code",
   "execution_count": null,
   "metadata": {},
   "outputs": [],
   "source": [
    "# pip install git+https://github.com/Jako-K/utils <-- dutils\n",
    "import dutils as U\n",
    "U.jupyter_ipython.adjust_screen_width(75)\n",
    "\n",
    "import matplotlib.pyplot as plts\n",
    "import seaborn as sns; sns.set_style(\"whitegrid\")\n",
    "from tqdm.notebook import tqdm\n",
    "import random\n",
    "from natsort import natsorted\n",
    "import pandas as pd\n",
    "import numpy as np\n",
    "from glob import glob\n",
    "import subprocess\n",
    "import cv2\n",
    "import re\n",
    "import sys\n",
    "import os\n",
    "import datetime"
   ]
  },
  {
   "cell_type": "markdown",
   "metadata": {},
   "source": [
    "# Load video paths"
   ]
  },
  {
   "cell_type": "code",
   "execution_count": null,
   "metadata": {},
   "outputs": [],
   "source": [
    "folder_paths = glob(\"E:/Egmont/*\") + glob(\"E:/Valby/*\") + glob(\"E:/Lyngbyvej/*\")\n",
    "video_paths_old = []\n",
    "\n",
    "for folder_path in folder_paths:\n",
    "    assert os.path.exists(folder_path)\n",
    "    video_paths = glob(os.path.join(folder_path, \"*\"))\n",
    "    video_paths = [os.path.abspath(path) for path in video_paths]\n",
    "    assert all([path[-4:].lower() == \".mp4\" for path in video_paths]), \"Expected only .mp4 files\"\n",
    "    assert all([\" \" not in path for path in video_paths]), \"exiftool cannot handle spaces the way the code is currenly written\"\n",
    "    \n",
    "    video_paths_old += video_paths\n",
    "len(video_paths_old)"
   ]
  },
  {
   "cell_type": "markdown",
   "metadata": {},
   "source": [
    "# Helpers function to extract \"media created\" data"
   ]
  },
  {
   "cell_type": "code",
   "execution_count": null,
   "metadata": {},
   "outputs": [],
   "source": [
    "def get_media_created(video_path:str):\n",
    "    assert U.system_info.on_windows(), \"exiftool is a Windows only build\"\n",
    "    assert os.path.exists(\"./exiftool-12.40/exiftool(-k).exe\"), \"Cannot find exiftool\"\n",
    "    assert os.path.exists(video_path), \"Received bad video path\"\n",
    "    \n",
    "    cmd = f'\"./exiftool-12.40/exiftool(-k).exe\" \"{video_path.lower()}\"'\n",
    "    p = subprocess.Popen(cmd, stdout=subprocess.PIPE, stderr=subprocess.PIPE, shell=True)\n",
    "    lines = [str(line.decode('UTF-8', 'ignore')) for line in iter(p.stdout.readline, b'')]\n",
    "    \n",
    "    if len(lines) == 0:\n",
    "        raise ValueError(f\"exiftool was unable to read the video file at: {video_path}\")\n",
    "    \n",
    "    media_created_line = [l for l in lines if re.search(\"Media Create Date\", l) is not None][0]\n",
    "    year, month, day, hour, minut = \"_\".join(media_created_line.split(\":\")[1:5]).strip().replace(\" \", \"_\").split(\"_\")\n",
    "    combined = f\"{day}-{month}-{year}_{hour}.{minut}\"\n",
    "    \n",
    "    return {\n",
    "        \"path\":os.path.abspath(video_path),\n",
    "        \"day\":str(int(day)), # str/int shenanigans is just to remove leading zeros\n",
    "        \"month\":str(int(month)),\n",
    "        \"year\":year,\n",
    "        \"hour\":hour,\n",
    "        \"minut\":minut,\n",
    "        \"combined\":combined\n",
    "    }"
   ]
  },
  {
   "cell_type": "markdown",
   "metadata": {},
   "source": [
    "# Create a dictionary that maps from old_name to new_name \n",
    "NOTE: This takes 30+ minutes"
   ]
  },
  {
   "cell_type": "code",
   "execution_count": null,
   "metadata": {
    "scrolled": false
   },
   "outputs": [],
   "source": [
    "rename_map = {}\n",
    "for old_video_path in tqdm(video_paths_old):\n",
    "    # Split path\n",
    "    old_video_path_split = os.path.normpath(old_video_path).split(os.sep)\n",
    "    assert len(old_video_path_split) >= 2, \"Something wrong with the path-split\"\n",
    "    \n",
    "    # Extract loaction and date from path \n",
    "    location, date = old_video_path_split[-2].split(\"_\")\n",
    "    location = location.lower()\n",
    "    assert location in [\"valby\", \"lyngbyvej\", \"egmont\"], \"Something is wrong with the location extracted from the video path\"\n",
    "    \n",
    "    # Extract media created information from the video itself\n",
    "    media_created = get_media_created(old_video_path)\n",
    "    day_media, month_media, year_media = media_created[\"day\"], media_created[\"month\"], media_created[\"year\"]\n",
    "    \n",
    "    is_recorded_in_december_2021 = (year_media == \"2021\") and (month_media == \"12\")\n",
    "    is_recorded_in_february_2022 = (year_media == \"2022\") and (month_media == \"2\")\n",
    "    assert is_recorded_in_december_2021 or is_recorded_in_february_2022, \"Received `media_created` outside expected period\"\n",
    "    \n",
    "    # Extract date from the video path. All the map-lambda shinanigans is just to to remove leadning zeros e.g. \"04\" -> 4 -> \"4\"\n",
    "    day_path, month_path, year_path = list(map(lambda x: str(int(x)), date.split(\"-\")))\n",
    "    \n",
    "    # The cameras malfunctioned on the \"LYNGBYVEJ_08-12-2021\" and \"LYNGBYVEJ_09-12-2021\", \n",
    "    # Which means day part has been encoded as 14'th instead of the 8'th and 15'th instead of the 9'th\n",
    "    if old_video_path_split[-2] == \"LYNGBYVEJ_08-12-2021\":\n",
    "        media_created[\"day\"] = \"8\"\n",
    "        media_created[\"combined\"] = \"08\" + media_created[\"combined\"][2:]\n",
    "    elif old_video_path_split[-2] == \"LYNGBYVEJ_09-12-2021\":\n",
    "        media_created[\"day\"] = \"9\"\n",
    "        media_created[\"combined\"] = \"09\" + media_created[\"combined\"][2:]\n",
    "    elif old_video_path_split[-2] == \"LYNGBYVEJ_10-12-2021\":\n",
    "        media_created[\"day\"] = \"10\"\n",
    "        media_created[\"combined\"] = \"10\" + media_created[\"combined\"][2:]\n",
    "    \n",
    "    # the date in `media_created` and the date extracted from the video path most agree\n",
    "    dates_matches = (day_path == media_created[\"day\"]) and (month_path == media_created[\"month\"]) and (year_path == media_created[\"year\"])\n",
    "    assert dates_matches, \"the date in `media_created` and the date extracted from the video path most agree\"\n",
    "    \n",
    "    # Update mapper\n",
    "    new_video_name = \"_\".join([location, media_created[\"combined\"], os.path.basename(old_video_path)])\n",
    "    key = os.path.normpath(\"/\".join(old_video_path.split(os.sep)[-2:])) # folder name + file_name e.g. \"EGMONT_04-02-2022/FILE0009.MP4\"\n",
    "    rename_map[key] = new_video_name"
   ]
  },
  {
   "cell_type": "markdown",
   "metadata": {},
   "source": [
    "# Create dataframe and save it as a csv file"
   ]
  },
  {
   "cell_type": "code",
   "execution_count": null,
   "metadata": {},
   "outputs": [],
   "source": [
    "# Prepare data for dataframe\n",
    "for_pandas = []\n",
    "week_day_map = {0:'Monday', 1:'Tuesday', 2:'Wednesday', 3:'Thursday', 4:'Friday', 5:'Saturday', 6:'Sunday'}\n",
    "\n",
    "for old_file_name, new_file_name in rename_map.items():\n",
    "    location, date, time, file_name = new_file_name.split(\"_\")\n",
    "    \n",
    "    # Date\n",
    "    day, month, year = map(int, date.split(\"-\"))\n",
    "    hour, minut = map(int, time.split(\".\"))\n",
    "    week_day_name = week_day_map[datetime.datetime(year, month, day).weekday()].lower()\n",
    "    date_all = f\"{date} {time.replace('.', ':')}\"\n",
    "    \n",
    "    # File name\n",
    "    file_name, file_extension = file_name.split(\".\")    \n",
    "    old_file_name_clean = \"/\".join(old_file_name.split(os.sep))\n",
    "    \n",
    "    for_pandas.append([location, week_day_name, date_all, day, month, year, \n",
    "                       hour, minut, file_name, old_file_name_clean, new_file_name])\n",
    "    \n",
    "# Save video data as a csv file\n",
    "df = pd.DataFrame(\n",
    "    for_pandas, \n",
    "    columns=[\n",
    "        \"location\", \"week_day\", \"date_all\", \"date_day\", \"date_month\", \"date_year\", \n",
    "        \"date_hour\", \"date_minut\", \"video_original_file_name\", \"mapping_key\", \"video_file_name\"\n",
    "    ]\n",
    ")\n",
    "df.to_csv(\"../video_data/video_info.csv\", index=False)"
   ]
  },
  {
   "cell_type": "markdown",
   "metadata": {},
   "source": [
    "# Change names\n",
    "NOTE: This function is only here to check that the extracted date+time is correct"
   ]
  },
  {
   "cell_type": "code",
   "execution_count": null,
   "metadata": {},
   "outputs": [],
   "source": [
    "def get_new_video_name(df, path):\n",
    "    assert os.path.exists(path) and os.path.isfile(path), \"Bad path\"\n",
    "    assert path[-4:].lower() == \".mp4\", \"Expected .MP4 extension\"\n",
    "    \n",
    "    key = \"/\".join(path.split(os.sep)[-2:])\n",
    "    return df[df[\"mapping_key\"] == key][\"video_file_name\"].values[0]\n",
    "path = random.choice(glob(\"C:/Users/JK/Desktop/reduced_yolo/**/*.MP4\"))\n",
    "print(path.replace(\"\\\\\", \"/\").replace(\"_yolo\", \"_initial\"))\n",
    "print(get_new_video_name(df, path))"
   ]
  },
  {
   "cell_type": "markdown",
   "metadata": {},
   "source": [
    "# Testing"
   ]
  },
  {
   "cell_type": "code",
   "execution_count": null,
   "metadata": {},
   "outputs": [],
   "source": [
    "old = [p.split(os.sep)[-1] for p in glob(\"E:/Egmont/*\") + glob(\"E:/Valby/*\") + glob(\"E:/Lyngbyvej/*\")]\n",
    "old = [folder_name for folder_name in old if \"EGMONT\" not in folder_name]\n",
    "\n",
    "new = [p.split(os.sep)[-1] for p in glob(\"C:/Users/JK/Desktop/reduced_initial/**\")]\n",
    "new = [folder_name for folder_name in new if \"EGMONT\" not in folder_name]\n",
    "\n",
    "if len(new) != len(old):\n",
    "    print(\"There's at least one mismatch between the new and the old video folder\")\n",
    "    for (o, n) in list(zip(natsorted(old), natsorted(new))):\n",
    "        if o != n:\n",
    "            print(\"! --> \", o, n)\n",
    "        else:\n",
    "            print(o, n)"
   ]
  }
 ],
 "metadata": {
  "kernelspec": {
   "display_name": "Python 3",
   "language": "python",
   "name": "python3"
  },
  "language_info": {
   "codemirror_mode": {
    "name": "ipython",
    "version": 3
   },
   "file_extension": ".py",
   "mimetype": "text/x-python",
   "name": "python",
   "nbconvert_exporter": "python",
   "pygments_lexer": "ipython3",
   "version": "3.8.6rc1"
  },
  "toc": {
   "base_numbering": 1,
   "nav_menu": {},
   "number_sections": true,
   "sideBar": true,
   "skip_h1_title": false,
   "title_cell": "Table of Contents",
   "title_sidebar": "Contents",
   "toc_cell": false,
   "toc_position": {},
   "toc_section_display": true,
   "toc_window_display": false
  }
 },
 "nbformat": 4,
 "nbformat_minor": 4
}
