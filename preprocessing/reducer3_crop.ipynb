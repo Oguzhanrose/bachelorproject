{
 "cells": [
  {
   "cell_type": "markdown",
   "metadata": {},
   "source": [
    "# File description\n",
    "Third step in the preprocessing. This file takes the compressed videos from `reducer2_h265.ipynb` crop each video individually. That is to say, each video is manually inspected and some suitable cropping values are chosen for that particular video. The cropping is performed with the help of `ffmpeg`"
   ]
  },
  {
   "cell_type": "code",
   "execution_count": null,
   "metadata": {},
   "outputs": [],
   "source": [
    "import dutils as U\n",
    "U.jupyter_ipython.adjust_screen_width()\n",
    "from glob import glob\n",
    "import os\n",
    "import torch\n",
    "import random\n",
    "import cv2\n",
    "from tqdm.notebook import tqdm\n",
    "import subprocess\n",
    "import pandas as pd"
   ]
  },
  {
   "cell_type": "markdown",
   "metadata": {},
   "source": [
    "# Constants"
   ]
  },
  {
   "cell_type": "code",
   "execution_count": null,
   "metadata": {},
   "outputs": [],
   "source": [
    "OLD_FOLDER_PATH = \"C:\\\\Users\\\\JK\\\\Desktop\\\\reduced_h265\" # Path to the original videos\n",
    "NEW_FOLDER_PATH = \"C:\\\\Users\\\\JK\\\\Desktop\\\\reduced_crop\" # Path where the processed videos are to be saved"
   ]
  },
  {
   "cell_type": "markdown",
   "metadata": {},
   "source": [
    "# Finding cropping values\n",
    "Take a single frame from each day which is going to be used for determining the cropping values"
   ]
  },
  {
   "cell_type": "code",
   "execution_count": null,
   "metadata": {},
   "outputs": [],
   "source": [
    "frames = {}\n",
    "videos_already_done = [os.path.basename(p) for p in glob(os.path.join(NEW_FOLDER_PATH, \"*\"))]\n",
    "\n",
    "for folder_path in glob(OLD_FOLDER_PATH+\"\\\\*\"):\n",
    "    if os.path.basename(folder_path) in videos_already_done:\n",
    "        continue\n",
    "    for i, video_path in enumerate(sorted(glob(os.path.join(folder_path, \"*\")), key=os.path.getctime)):\n",
    "        if i < 30: continue # Don't want the dark morning images\n",
    "        cap = cv2.VideoCapture(video_path)\n",
    "        _, frame = cap.read()\n",
    "        cap.release()\n",
    "        cv2.destroyAllWindows()\n",
    "        frames[folder_path] = frame\n",
    "        break\n",
    "        \n",
    "U.jupyter_ipython.show_image(list(frames.values()))"
   ]
  },
  {
   "cell_type": "code",
   "execution_count": null,
   "metadata": {
    "scrolled": false
   },
   "outputs": [],
   "source": [
    "results = {}\n",
    "\n",
    "def testing_cropping_values(image, x1, y1, x2, y2):\n",
    "    \"\"\" \n",
    "    A simple function used to iterartively figure out \n",
    "    which cropping values are suitable for each image.\n",
    "    The reformatting to width (x2-x1) and height (y2-y1)\n",
    "    are because that's the format FFMPEG expects\n",
    "    \"\"\"\n",
    "    H, W, _ = image.shape\n",
    "    if x2 is None: x2 = W\n",
    "    if x2 < 0: x2 = W + x2\n",
    "    if y2 is None: y2 = H\n",
    "    if y2 < 0: y2 = H + y2\n",
    "    \n",
    "    cropped_image = image[y1:y2,x1:x2,:]\n",
    "    #U.images.show_ndarray_image(image, 0.5, BGR2RGB=True)\n",
    "    U.images.show_ndarray_image(cropped_image, 0.75, BGR2RGB=True)\n",
    "    print(x1,y1,x2,y2)\n",
    "    return (x1, y1, x2-x1, y2-y1)\n",
    "\n",
    "for i, (path, frame) in enumerate(frames.items()):\n",
    "    if i == 0:\n",
    "        results[path] = testing_cropping_values(frames[path],x1=0, y1=350, x2=None, y2=-50)\n",
    "    elif i == 1:\n",
    "        results[path] = testing_cropping_values(frames[path],x1=0, y1=350, x2=None, y2=-50)\n",
    "    # ...\n",
    "    # NOTE ALL VIDEOS WAS SEND THROUGH THIS PROCESS, BUT ONLY THE LAST 2 VALUES ARE SAVED HERE\n",
    "    # ...\n",
    "\n",
    "path_to_crop_values = results"
   ]
  },
  {
   "cell_type": "markdown",
   "metadata": {},
   "source": [
    "# Folders"
   ]
  },
  {
   "cell_type": "code",
   "execution_count": null,
   "metadata": {},
   "outputs": [],
   "source": [
    "old_folder_paths = [os.path.abspath(p) for p in glob(os.path.join(OLD_FOLDER_PATH, \"*\"))]\n",
    "new_folder_paths = [os.path.join(NEW_FOLDER_PATH, os.path.basename(p)) for p in old_folder_paths]\n",
    "\n",
    "for new_folder_path in new_folder_paths:\n",
    "    if os.path.exists(new_folder_path): continue\n",
    "    assert not os.path.exists(new_folder_path), \"Folder already exists\"\n",
    "    assert not os.path.isdir(new_folder_path), \"Received non-folder path\"\n",
    "    os.mkdir(new_folder_path)"
   ]
  },
  {
   "cell_type": "markdown",
   "metadata": {},
   "source": [
    "# Compress"
   ]
  },
  {
   "cell_type": "code",
   "execution_count": null,
   "metadata": {},
   "outputs": [],
   "source": [
    "for (old_folder_path, new_folder_path) in tqdm(list(zip(old_folder_paths, new_folder_paths))):\n",
    "    if os.path.basename(old_folder_path) in videos_already_done:\n",
    "        continue\n",
    "    x,y,w,h = path_to_crop_values[old_folder_path]\n",
    "    \n",
    "    for old_video_path in tqdm(glob(os.path.join(old_folder_path, \"*\")), leave=False):\n",
    "        new_video_path = os.path.join(new_folder_path, os.path.basename(old_video_path))\n",
    "        if os.path.isfile(new_video_path): continue\n",
    "        command = f'ffmpeg -i {old_video_path} -filter:v \"crop={w}:{h}:{x}:{y}\" {new_video_path}'\n",
    "        subprocess.run(command)"
   ]
  }
 ],
 "metadata": {
  "kernelspec": {
   "display_name": "Python 3",
   "language": "python",
   "name": "python3"
  },
  "language_info": {
   "codemirror_mode": {
    "name": "ipython",
    "version": 3
   },
   "file_extension": ".py",
   "mimetype": "text/x-python",
   "name": "python",
   "nbconvert_exporter": "python",
   "pygments_lexer": "ipython3",
   "version": "3.8.6rc1"
  },
  "toc": {
   "base_numbering": 1,
   "nav_menu": {},
   "number_sections": true,
   "sideBar": true,
   "skip_h1_title": false,
   "title_cell": "Table of Contents",
   "title_sidebar": "Contents",
   "toc_cell": false,
   "toc_position": {},
   "toc_section_display": true,
   "toc_window_display": false
  }
 },
 "nbformat": 4,
 "nbformat_minor": 4
}
