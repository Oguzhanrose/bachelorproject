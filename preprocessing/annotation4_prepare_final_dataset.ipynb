{
 "cells": [
  {
   "cell_type": "markdown",
   "metadata": {},
   "source": [
    "# File description\n",
    "Make the last adjustment to the dataset. This include:\n",
    "\n",
    "    1.) Creating a dataframe that contains one row for each annotation\n",
    "    2.) Add extra information to these rows such as YOLO and cartesian coordinates\n",
    "    3.) Combine certain labels e.g. `cycle_covered` becomes `cycle_nohelmet` and `earbuds` becomes `headphones`\n",
    "    4.) Display final label distribution.\n",
    "<br>\n",
    "<br>\n",
    "The resulting dataframe looks something like this (some columns are missing)\n",
    "<img src=\"../illustration_images/df_final_dataset_example.png\" width=\"800\" /> \n"
   ]
  },
  {
   "cell_type": "code",
   "execution_count": null,
   "metadata": {},
   "outputs": [],
   "source": [
    "import dutils as U\n",
    "U.jupyter_ipython.adjust_screen_width()\n",
    "from dutils.jupyter_ipython import show_image as show\n",
    "import seaborn; seaborn.set_style(\"whitegrid\")\n",
    "\n",
    "from typing import List\n",
    "import numpy as np\n",
    "import seaborn as sns\n",
    "import matplotlib.pyplot as plt\n",
    "from tqdm.notebook import tqdm\n",
    "from natsort import natsorted\n",
    "import shutil\n",
    "from glob import glob\n",
    "import random\n",
    "import pandas as pd\n",
    "import json\n",
    "import cv2\n",
    "import os"
   ]
  },
  {
   "cell_type": "markdown",
   "metadata": {},
   "source": [
    "# Helpers"
   ]
  },
  {
   "cell_type": "code",
   "execution_count": null,
   "metadata": {
    "code_folding": [
     1
    ]
   },
   "outputs": [],
   "source": [
    "def read_yolo_from_file(label_path:str) -> List[list]:\n",
    "    \"\"\"\n",
    "    Load yolo label from file. Expect each line to be in the format format:\n",
    "        class_label x_center y_center bb_width bb_height.\n",
    "\n",
    "\n",
    "    :param label_path: Takes a label_path, which is a string\n",
    "    :return: list of lists with BBs in the format:\n",
    "            [\n",
    "            [class_label, x_center, y_center, bb_width, bb_height],\n",
    "            [class_label, x_center, y_center, bb_width, bb_height],\n",
    "            ...\n",
    "            ]\n",
    "    \"\"\"\n",
    "    # Checks\n",
    "    if not os.path.exists(label_path): raise ValueError(\"Received a bad path\")\n",
    "    if label_path[-4:] != \".txt\": raise ValueError(f\"Expected .txt file but received {os.path.basename(label_path)}\")\n",
    "\n",
    "    # Read labels\n",
    "    boxes = []\n",
    "    with open(label_path) as f:\n",
    "        for label in f.readlines():\n",
    "\n",
    "            # Extract label info + label checks\n",
    "            label_split = label.replace(\"\\n\", \"\").split(\" \")\n",
    "            if len(label_split) != 5:\n",
    "                raise RuntimeError(\"Received a bad label\")\n",
    "            class_label, x, y, w, h = [float(x) for x in label_split]\n",
    "            if not all(0<=number<=1 for number in [x,y,w,h]):\n",
    "                raise RuntimeError(\"one or more of [x,y,w,h] is outside the accepted range [0,1]\")\n",
    "\n",
    "            boxes.append([class_label, x, y, w, h])\n",
    "\n",
    "    return boxes\n",
    "\n",
    "def xywhn2xyxy(label, x, y, w, h, dh, dw):\n",
    "    l = int((x - w / 2) * dw)\n",
    "    r = int((x + w / 2) * dw)\n",
    "    t = int((y - h / 2) * dh)\n",
    "    b = int((y + h / 2) * dh)\n",
    "\n",
    "    if l < 0: l = 0\n",
    "    if r > dw - 1: r = dw - 1\n",
    "    if t < 0: t = 0\n",
    "    if b > dh - 1: b = dh - 1\n",
    "    return \" \".join([label, str(l), str(t), str(r), str(b)])"
   ]
  },
  {
   "cell_type": "markdown",
   "metadata": {},
   "source": [
    "# Setup"
   ]
  },
  {
   "cell_type": "code",
   "execution_count": null,
   "metadata": {},
   "outputs": [],
   "source": [
    "label_map = {\n",
    "    0: 'cycle_helmet',\n",
    "    1: 'cycle_nohelmet',\n",
    "    2: 'cycle_blurred',\n",
    "    3: 'cycle_covered',\n",
    "    4: 'escooter_helmet',\n",
    "    5: 'escooter_nohelmet',\n",
    "    6: 'escooter_blurred',\n",
    "    7: 'escooter_covered',\n",
    "    8: 'headphones',\n",
    "    9: 'earbuds',\n",
    "    10: 'phone',\n",
    "    11: 'hovding',\n",
    "    12: 'cycle_light',\n",
    "    13: 'escooter_light',\n",
    "    14: 'scooter'\n",
    "}"
   ]
  },
  {
   "cell_type": "code",
   "execution_count": null,
   "metadata": {},
   "outputs": [],
   "source": [
    "df = pd.read_csv(\"../dataset/data_final/info.csv\")\n",
    "df_clean = df.loc[0:-1, :\"frame_name\"].copy()\n",
    "df_clean[\"class_label\"] = -1\n",
    "df_clean[\"class_label_name\"] = \"\"\n",
    "df_clean[\"label_yolo\"] = \"\"\n",
    "df_clean[\"label_cartesian\"] = \"\"\n",
    "df_clean[\"color_channels\"] = -1\n",
    "df_clean[\"image_height\"] = -1\n",
    "df_clean[\"image_width\"] = -1"
   ]
  },
  {
   "cell_type": "markdown",
   "metadata": {},
   "source": [
    "# Add a row for each annotation\n",
    "NOTE: Bounding boxes with `hovding`, `cycle_light`, `escooter_light` and `scooter` will be removed"
   ]
  },
  {
   "cell_type": "code",
   "execution_count": null,
   "metadata": {
    "scrolled": false
   },
   "outputs": [],
   "source": [
    "path = \"../dataset/data_final/data\"\n",
    "for i, row in tqdm(df.iterrows(), total=len(df)):\n",
    "    # Setup\n",
    "    anno_path = path + \"/\" + row[\"annotation_name\"]\n",
    "    image_path = path + \"/\" + row[\"frame_name\"]\n",
    "    annotations = read_yolo_from_file(anno_path)\n",
    "    \n",
    "    # get image info\n",
    "    h,w,c = cv2.imread(image_path).shape\n",
    "    \n",
    "    # Add one row per annotation\n",
    "    for anno in annotations:\n",
    "        label = int(anno[0])\n",
    "        \n",
    "        # remove: hovding, cycle_light, escooter_light and scooter\n",
    "        if label in [11, 12, 13, 14]: \n",
    "            continue\n",
    "            \n",
    "        to_append = row[:\"frame_name\"].copy()\n",
    "        to_append[\"class_label\"] = label\n",
    "        to_append[\"class_label_name\"] = label_map[label]\n",
    "        to_append[\"label_yolo\"] = \" \".join(map(str, anno))\n",
    "        to_append[\"label_cartesian\"] = xywhn2xyxy(label_map[label], *anno[1:], h, w)\n",
    "        to_append[\"color_channels\"] = c\n",
    "        to_append[\"image_height\"] = h\n",
    "        to_append[\"image_width\"] = w\n",
    "        \n",
    "        df_clean = df_clean.append(to_append)\n",
    "        \n",
    "df_clean"
   ]
  },
  {
   "cell_type": "markdown",
   "metadata": {},
   "source": [
    "# Make alternative class labels"
   ]
  },
  {
   "cell_type": "code",
   "execution_count": null,
   "metadata": {},
   "outputs": [],
   "source": [
    "df_clean[\"class_label_combined_name\"] = df_clean[\"class_label_name\"]\n",
    "def change_class_label(df, from_label:str, to_label:str, folder_path:str=None) -> None:\n",
    "    cond = df[\"class_label_name\"] == from_label\n",
    "    df.loc[cond, \"class_label_combined_name\"] = to_label\n",
    "    print(f\"Found: {sum(cond)}\")\n",
    "    \n",
    "    if path is not None:\n",
    "        show(df_clean[cond].frame_name.apply(lambda x: folder_path+\"/\"+x).to_list())\n",
    "        \n",
    "    assert all(df[\"class_label_combined_name\"] != from_label)"
   ]
  },
  {
   "cell_type": "markdown",
   "metadata": {},
   "source": [
    "## Combine `cycle_blurred` with `cycle_nohelmet`"
   ]
  },
  {
   "cell_type": "code",
   "execution_count": null,
   "metadata": {},
   "outputs": [],
   "source": [
    "change_class_label(df_clean, \"cycle_blurred\", \"cycle_nohelmet\", path)"
   ]
  },
  {
   "cell_type": "markdown",
   "metadata": {},
   "source": [
    "## Combine `cycle_covered` with `cycle_nohelmet`"
   ]
  },
  {
   "cell_type": "code",
   "execution_count": null,
   "metadata": {},
   "outputs": [],
   "source": [
    "change_class_label(df_clean, \"cycle_covered\", \"cycle_nohelmet\", path)"
   ]
  },
  {
   "cell_type": "markdown",
   "metadata": {},
   "source": [
    "## Combine `escooter_blurred` with `escooter_nohelmet`"
   ]
  },
  {
   "cell_type": "code",
   "execution_count": null,
   "metadata": {
    "scrolled": false
   },
   "outputs": [],
   "source": [
    "change_class_label(df_clean, \"escooter_blurred\", \"escooter_nohelmet\", path)"
   ]
  },
  {
   "cell_type": "markdown",
   "metadata": {},
   "source": [
    "## Combine `escooter_covered` with `escooter_nohelmet`"
   ]
  },
  {
   "cell_type": "code",
   "execution_count": null,
   "metadata": {},
   "outputs": [],
   "source": [
    "change_class_label(df_clean, \"escooter_covered\", \"escooter_nohelmet\", path)"
   ]
  },
  {
   "cell_type": "markdown",
   "metadata": {},
   "source": [
    "## Combine `earbuds` with `headphones`"
   ]
  },
  {
   "cell_type": "code",
   "execution_count": null,
   "metadata": {},
   "outputs": [],
   "source": [
    "change_class_label(df_clean, \"earbuds\", \"headphones\", path)"
   ]
  },
  {
   "cell_type": "markdown",
   "metadata": {},
   "source": [
    "# Final class distribution"
   ]
  },
  {
   "cell_type": "code",
   "execution_count": null,
   "metadata": {},
   "outputs": [],
   "source": [
    "sns.set(rc={'figure.figsize':(20,7)}, style=\"whitegrid\")\n",
    "with_names = list(dict(df_clean[\"class_label_combined_name\"].value_counts()).keys())\n",
    "counts = df_clean[\"class_label_combined_name\"].value_counts().values.tolist()\n",
    "counts_percentage = [round(c/sum(counts)*100, 2) for c in counts]\n",
    "barplot = sns.barplot(x=with_names, y=counts_percentage)\n",
    "\n",
    "for i, (name, value) in enumerate(zip(with_names, counts_percentage)):\n",
    "    barplot.text(i, value+0.5, str(counts[i]), horizontalalignment=\"center\")\n",
    "barplot.set_xlabel(\"Labels\")\n",
    "barplot.set_ylabel(\"Count (%)\");\n",
    "plt.title(f\"Label distribution - Total: {df_clean['class_label_combined_name'].value_counts().sum()}\")\n",
    "\n",
    "display(df_clean[\"class_label_combined_name\"].value_counts())\n",
    "\"SUM: \", df_clean[\"class_label_combined_name\"].value_counts().sum()"
   ]
  },
  {
   "cell_type": "markdown",
   "metadata": {},
   "source": [
    "# Make annotations for the combined labels"
   ]
  },
  {
   "cell_type": "code",
   "execution_count": null,
   "metadata": {},
   "outputs": [],
   "source": [
    "reversed_label_map = {v:k for k,v in label_map.items()}\n",
    "df_clean[\"class_label_combined\"] = df_clean[\"class_label_combined_name\"].apply(lambda x: reversed_label_map[x])\n",
    "df_clean[\"label_yolo_combined\"] = df_clean.apply(\n",
    "    lambda x: str(x[\"class_label_combined\"]) + \" \" + \" \".join(x[\"label_yolo\"].split(\" \")[1:])\n",
    "    ,1\n",
    ")\n",
    "\n",
    "df_clean[\"label_cartesian_combined\"] = df_clean.apply(\n",
    "    lambda x: x[\"class_label_combined_name\"] + \" \" + \" \".join(x[\"label_cartesian\"].split(\" \")[1:])\n",
    "    ,1\n",
    ")"
   ]
  },
  {
   "cell_type": "markdown",
   "metadata": {},
   "source": [
    "# Save the full annotation file"
   ]
  },
  {
   "cell_type": "code",
   "execution_count": null,
   "metadata": {},
   "outputs": [],
   "source": [
    "df_clean[\"annotation_path\"] = df_clean[\"annotation_name\"].apply(lambda x: \"../dataset/data_final/data/\" + x)\n",
    "df_clean[\"frame_path\"] = df_clean[\"frame_name\"].apply(lambda x: \"../dataset/data_final/data/\" + x)\n",
    "df_clean[\"row_id\"] = list(range(len(df_clean)))\n",
    "df_clean.to_csv(\"../dataset/data_final/annotations_all.csv\", index=False)"
   ]
  }
 ],
 "metadata": {
  "kernelspec": {
   "display_name": "Python 3",
   "language": "python",
   "name": "python3"
  },
  "language_info": {
   "codemirror_mode": {
    "name": "ipython",
    "version": 3
   },
   "file_extension": ".py",
   "mimetype": "text/x-python",
   "name": "python",
   "nbconvert_exporter": "python",
   "pygments_lexer": "ipython3",
   "version": "3.8.6rc1"
  },
  "toc": {
   "base_numbering": 1,
   "nav_menu": {},
   "number_sections": true,
   "sideBar": true,
   "skip_h1_title": false,
   "title_cell": "Table of Contents",
   "title_sidebar": "Contents",
   "toc_cell": false,
   "toc_position": {},
   "toc_section_display": true,
   "toc_window_display": false
  }
 },
 "nbformat": 4,
 "nbformat_minor": 4
}
